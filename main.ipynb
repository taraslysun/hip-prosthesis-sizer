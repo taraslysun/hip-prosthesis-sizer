{
 "cells": [
  {
   "cell_type": "code",
   "execution_count": 76,
   "metadata": {},
   "outputs": [],
   "source": [
    "# !pip install -r requirements.txt -q"
   ]
  },
  {
   "cell_type": "code",
   "execution_count": 77,
   "metadata": {},
   "outputs": [],
   "source": [
    "from ultralytics import YOLO\n",
    "import cv2\n",
    "import random\n",
    "import numpy as np\n",
    "from dotenv import load_dotenv\n",
    "import os\n",
    "from inference_sdk import InferenceHTTPClient"
   ]
  },
  {
   "cell_type": "code",
   "execution_count": 78,
   "metadata": {},
   "outputs": [],
   "source": [
    "from segmentator import Segmentator, find_tangent_lines, HeadSegmentator, px_in_cm, get_head_edge_points, get_head_highest_points\n",
    "from detector import Detector"
   ]
  },
  {
   "cell_type": "code",
   "execution_count": 79,
   "metadata": {},
   "outputs": [],
   "source": [
    "segm = Segmentator(model_path=\"weights/segmentation.pt\")\n",
    "det = Detector(model_id=\"hip-joint-detection/2\")\n",
    "head_segm = HeadSegmentator(model_id=\"femur-head-segmentation/2\")"
   ]
  },
  {
   "cell_type": "code",
   "execution_count": 80,
   "metadata": {},
   "outputs": [],
   "source": [
    "image1 = 'test_data/img1.jpg'\n",
    "image2 = 'test_data/img2.jpg'\n",
    "image3 = 'test_data/img3.jpg'\n",
    "detected = 'test_data/detected.jpg'\n",
    "segmented = 'test_data/segmented.jpg'"
   ]
  },
  {
   "cell_type": "markdown",
   "metadata": {},
   "source": [
    "Detect all results"
   ]
  },
  {
   "cell_type": "code",
   "execution_count": 81,
   "metadata": {},
   "outputs": [
    {
     "name": "stdout",
     "output_type": "stream",
     "text": [
      "\n",
      "0: 640x640 1 big-hole, 2 bone-hollows, 652.6ms\n",
      "Speed: 4.5ms preprocess, 652.6ms inference, 11.6ms postprocess per image at shape (1, 3, 640, 640)\n",
      "((209, 238), (19, -743)) left\n",
      "left_edge_point {'x': 101.0, 'y': 200.0}\n",
      "right_edge_point {'x': 534.0, 'y': 201.0}\n",
      "{'x': 132.0, 'y': 173.0}\n",
      "{'x': 475.0, 'y': 169.0}\n",
      "left_highest_point (132.0, 163.685)\n",
      "right_highest_point (475.0, 159.685)\n",
      "left_right_highest_point (19, -743)\n",
      "right_left_highest_point (642, -734)\n"
     ]
    }
   ],
   "source": [
    "image = cv2.imread(image1)\n",
    "det_results = det.detect(image1)\n",
    "head_segm_results = head_segm.segment(image1)\n",
    "segm_results = segm.segment(image1)\n",
    "_, left_line, right_line, left_hole_top_left, right_hole_top_right, new_points = find_tangent_lines(image1, segm_results, det_results)\n",
    "cm = px_in_cm(det_results)\n",
    "head_edge_points = get_head_edge_points(head_segm_results)\n",
    "left_edge_point = min(head_edge_points[0], key=lambda x: x['x'])\n",
    "print(\"left_edge_point\", left_edge_point)\n",
    "right_edge_point =  max(head_edge_points[1], key=lambda x: x['x'])\n",
    "print(\"right_edge_point\", right_edge_point)\n",
    "head_highest_points = get_head_highest_points(head_segm_results, cm) \n",
    "left_highest_point, right_highest_point = head_highest_points[0], head_highest_points[1]\n",
    "print(\"left_highest_point\", left_highest_point)\n",
    "print(\"right_highest_point\", right_highest_point)\n",
    "left_right_highest_point = new_points[0]\n",
    "print(\"left_right_highest_point\", left_right_highest_point)\n",
    "right_left_highest_point = new_points[1]\n",
    "print(\"right_left_highest_point\", right_left_highest_point)"
   ]
  },
  {
   "cell_type": "code",
   "execution_count": 82,
   "metadata": {},
   "outputs": [
    {
     "name": "stdout",
     "output_type": "stream",
     "text": [
      "left_right_top (193, 163)\n",
      "right_left_top (436, 159)\n"
     ]
    }
   ],
   "source": [
    "left_left_top = (int(left_edge_point['x']), int(left_highest_point[1]))\n",
    "left_left_bottom = (int(left_edge_point['x']), int(left_hole_top_left[1]))\n",
    "left_right_top = (int(left_right_highest_point[0]),int(left_highest_point[1]))\n",
    "\n",
    "dist_left = left_left_top[0] - left_right_top[0]\n",
    "left_right_top = (int(left_right_highest_point[0] + 2*dist_left + 10), int(left_highest_point[1]))\n",
    "\n",
    "print(\"left_right_top\", left_right_top)\n",
    "left_right_bottom = (int(left_hole_top_left[0]), int(left_hole_top_left[1]))\n",
    "\n",
    "right_right_top = (int(right_edge_point['x']), int(right_highest_point[1]))\n",
    "right_right_bottom = (int(right_edge_point['x']), int(right_hole_top_right[1]))\n",
    "right_left_top = (int(right_left_highest_point[0]), int(right_highest_point[1]))\n",
    "dist_right = right_right_top[0] - right_left_highest_point[0] \n",
    "right_left_top = (int(right_left_highest_point[0] + 2*dist_right + 10), int(right_highest_point[1]))\n",
    "\n",
    "print(\"right_left_top\", right_left_top)  \n",
    "# right_left_top = (int(right_left_highest_point[0] - 2*dist_right - 10), int(right_highest_point[1]))\n",
    "right_left_bottom = (int(right_hole_top_right[0]), int(right_hole_top_right[1]))\n"
   ]
  },
  {
   "cell_type": "code",
   "execution_count": 83,
   "metadata": {},
   "outputs": [
    {
     "data": {
      "text/plain": [
       "array([[[ 16,  81,  12],\n",
       "        [ 73, 134,  70],\n",
       "        [  0,  38,   0],\n",
       "        ...,\n",
       "        [ 58, 114,  61],\n",
       "        [ 64, 126,  66],\n",
       "        [140, 208, 143]],\n",
       "\n",
       "       [[  0,  45,   0],\n",
       "        [  0,  51,   0],\n",
       "        [  0,  20,   0],\n",
       "        ...,\n",
       "        [  9,  59,  11],\n",
       "        [ 45, 102,  47],\n",
       "        [129, 191, 131]],\n",
       "\n",
       "       [[  0,  27,   0],\n",
       "        [  0,  20,   0],\n",
       "        [  0,  17,   0],\n",
       "        ...,\n",
       "        [  0,  21,   0],\n",
       "        [  0,  33,   0],\n",
       "        [147, 199, 146]],\n",
       "\n",
       "       ...,\n",
       "\n",
       "       [[  0,  23,   0],\n",
       "        [  0,  42,   0],\n",
       "        [  0,  16,   0],\n",
       "        ...,\n",
       "        [  0,   9,   0],\n",
       "        [ 55,  92,  54],\n",
       "        [143, 185, 137]],\n",
       "\n",
       "       [[ 23,  81,  22],\n",
       "        [ 39,  94,  37],\n",
       "        [  0,  27,   0],\n",
       "        ...,\n",
       "        [  0,  21,   0],\n",
       "        [ 75, 118,  73],\n",
       "        [152, 203, 146]],\n",
       "\n",
       "       [[  0,  38,   0],\n",
       "        [ 17,  77,  17],\n",
       "        [  0,  23,   0],\n",
       "        ...,\n",
       "        [  0,  23,   0],\n",
       "        [  0,  43,   0],\n",
       "        [143, 197, 138]]], dtype=uint8)"
      ]
     },
     "execution_count": 83,
     "metadata": {},
     "output_type": "execute_result"
    }
   ],
   "source": [
    "cv2.circle(image, left_left_top, 5, (0, 0, 255), -1)\n",
    "cv2.circle(image, left_left_bottom, 5, (0, 0, 255), -1)\n",
    "cv2.circle(image, left_right_top, 5, (0, 255, 0), -1)\n",
    "cv2.circle(image, left_right_bottom, 5, (0, 0, 255), -1)\n",
    "\n",
    "cv2.circle(image, right_right_top, 5, (0, 0, 255), -1)\n",
    "cv2.circle(image, right_right_bottom, 5, (0, 0, 255), -1)\n",
    "cv2.circle(image, right_left_top, 5, (0, 255, 0), -1)\n",
    "cv2.circle(image, right_left_bottom, 5, (0, 0, 255), -1)\n"
   ]
  },
  {
   "cell_type": "code",
   "execution_count": 84,
   "metadata": {},
   "outputs": [
    {
     "data": {
      "text/plain": [
       "array([[[ 16,  81,  12],\n",
       "        [ 73, 134,  70],\n",
       "        [  0,  38,   0],\n",
       "        ...,\n",
       "        [ 58, 114,  61],\n",
       "        [ 64, 126,  66],\n",
       "        [140, 208, 143]],\n",
       "\n",
       "       [[  0,  45,   0],\n",
       "        [  0,  51,   0],\n",
       "        [  0,  20,   0],\n",
       "        ...,\n",
       "        [  9,  59,  11],\n",
       "        [ 45, 102,  47],\n",
       "        [129, 191, 131]],\n",
       "\n",
       "       [[  0,  27,   0],\n",
       "        [  0,  20,   0],\n",
       "        [  0,  17,   0],\n",
       "        ...,\n",
       "        [  0,  21,   0],\n",
       "        [  0,  33,   0],\n",
       "        [147, 199, 146]],\n",
       "\n",
       "       ...,\n",
       "\n",
       "       [[  0,  23,   0],\n",
       "        [  0,  42,   0],\n",
       "        [  0,  16,   0],\n",
       "        ...,\n",
       "        [  0,   9,   0],\n",
       "        [ 55,  92,  54],\n",
       "        [143, 185, 137]],\n",
       "\n",
       "       [[ 23,  81,  22],\n",
       "        [ 39,  94,  37],\n",
       "        [  0,  27,   0],\n",
       "        ...,\n",
       "        [  0,  21,   0],\n",
       "        [ 75, 118,  73],\n",
       "        [152, 203, 146]],\n",
       "\n",
       "       [[  0,  38,   0],\n",
       "        [ 17,  77,  17],\n",
       "        [  0,  23,   0],\n",
       "        ...,\n",
       "        [  0,  23,   0],\n",
       "        [  0,  43,   0],\n",
       "        [143, 197, 138]]], dtype=uint8)"
      ]
     },
     "execution_count": 84,
     "metadata": {},
     "output_type": "execute_result"
    }
   ],
   "source": [
    "\n",
    "cv2.line(image, left_line[0], left_line[1], (255, 0, 0), 2)\n",
    "cv2.line(image, right_line[0], right_line[1], (0, 255, 0), 2)"
   ]
  },
  {
   "cell_type": "code",
   "execution_count": 110,
   "metadata": {},
   "outputs": [],
   "source": []
  },
  {
   "cell_type": "code",
   "execution_count": 85,
   "metadata": {},
   "outputs": [
    {
     "data": {
      "text/plain": [
       "True"
      ]
     },
     "execution_count": 85,
     "metadata": {},
     "output_type": "execute_result"
    }
   ],
   "source": [
    "cv2.imwrite('test_data/tangent_lines.jpg', image)"
   ]
  },
  {
   "cell_type": "code",
   "execution_count": null,
   "metadata": {},
   "outputs": [],
   "source": []
  }
 ],
 "metadata": {
  "kernelspec": {
   "display_name": "venv",
   "language": "python",
   "name": "python3"
  },
  "language_info": {
   "codemirror_mode": {
    "name": "ipython",
    "version": 3
   },
   "file_extension": ".py",
   "mimetype": "text/x-python",
   "name": "python",
   "nbconvert_exporter": "python",
   "pygments_lexer": "ipython3",
   "version": "3.12.3"
  }
 },
 "nbformat": 4,
 "nbformat_minor": 2
}

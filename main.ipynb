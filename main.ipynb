{
 "cells": [
  {
   "cell_type": "code",
   "execution_count": 5,
   "metadata": {},
   "outputs": [],
   "source": [
    "# !pip install -r requirements.txt -q"
   ]
  },
  {
   "cell_type": "code",
   "execution_count": 1,
   "metadata": {},
   "outputs": [],
   "source": [
    "from ultralytics import YOLO\n",
    "import cv2\n",
    "import random\n",
    "import numpy as np\n",
    "from dotenv import load_dotenv\n",
    "import os\n",
    "from inference_sdk import InferenceHTTPClient"
   ]
  },
  {
   "cell_type": "code",
   "execution_count": 2,
   "metadata": {},
   "outputs": [],
   "source": [
    "from segmentator import *\n",
    "from detector import Detector"
   ]
  },
  {
   "cell_type": "code",
   "execution_count": 3,
   "metadata": {},
   "outputs": [],
   "source": [
    "segm = Segmentator(model_path=\"weights/segmentation.pt\")\n",
    "det = Detector(model_id=\"hip-joint-detection/2\")\n",
    "head_segm = HeadSegmentator(model_id=\"femur-head-segmentation/2\")"
   ]
  },
  {
   "cell_type": "code",
   "execution_count": 4,
   "metadata": {},
   "outputs": [],
   "source": [
    "image1 = 'test_data/img1.jpg'\n",
    "image2 = 'test_data/image_2024-10-04_08-59-24_png.rf.c1dac7f8fb2ed3f0950689b41f877e6f.jpg'\n",
    "image3 = 'test_data/img3.jpg'\n",
    "image4 = 'test_data/image_2024-10-04_08-46-53_png.rf.e1eb4001b3f260482098dec04f490213.jpg'\n",
    "image5 = 'test_data/image_2024-10-04_08-55-22_png.rf.a44311a6ee632be9fb8d0d342e06e64e.jpg'\n",
    "image6 = 'test_data/image_2024-10-04_08-54-17_png.rf.18717b3145384864f2123e2774fb4371.jpg'\n",
    "image7 = 'test_data/image_2024-10-04_08-59-24_png.rf.c1dac7f8fb2ed3f0950689b41f877e6f.jpg'\n",
    "detected = 'test_data/detected.jpg'\n",
    "segmented = 'test_data/segmented.jpg'"
   ]
  },
  {
   "cell_type": "markdown",
   "metadata": {},
   "source": [
    "Detect all results"
   ]
  },
  {
   "cell_type": "code",
   "execution_count": 11,
   "metadata": {},
   "outputs": [
    {
     "name": "stdout",
     "output_type": "stream",
     "text": [
      "\n",
      "0: 640x640 1 big-hole, 2 bone-hollows, 307.4ms\n",
      "Speed: 2.1ms preprocess, 307.4ms inference, 3.7ms postprocess per image at shape (1, 3, 640, 640)\n"
     ]
    }
   ],
   "source": [
    "img = image4\n",
    "image = cv2.imread(img)\n",
    "det_results = det.detect(img)\n",
    "head_segm_results = head_segm.segment(img)\n",
    "segm_results = segm.segment(img)\n",
    "tang_dict = find_tangent_lines(img, segm_results, det_results)\n",
    "cm = px_in_cm(det_results)\n",
    "\n",
    "new_points = tang_dict['new_points']\n",
    "L_line = tang_dict['left_line_points']\n",
    "R_line = tang_dict['right_line_points']\n",
    "L_hole_top_left = tang_dict['left_hole_top_left']\n",
    "R_hole_top_right = tang_dict['right_hole_top_right']\n",
    "\n",
    "head_edge_points = get_head_edge_points(head_segm_results)\n",
    "head_highest_points = get_head_highest_points(head_segm_results, cm) \n",
    "\n",
    "\n",
    "L_edge_point, R_edge_point = get_head_edge_points(head_segm_results)\n",
    "\n",
    "L_highest_point, R_highest_point = head_highest_points[0], head_highest_points[1]\n",
    "L_right_highest_point = new_points[0]\n",
    "R_left_highest_point = new_points[1]"
   ]
  },
  {
   "cell_type": "code",
   "execution_count": 15,
   "metadata": {},
   "outputs": [
    {
     "name": "stdout",
     "output_type": "stream",
     "text": [
      "\n",
      "0: 640x640 1 big-hole, 2 bone-hollows, 631.8ms\n",
      "Speed: 5.6ms preprocess, 631.8ms inference, 4.3ms postprocess per image at shape (1, 3, 640, 640)\n",
      "(array([[[ 35,  90,  35],\n",
      "        [  1,  53,   0],\n",
      "        [  0,  18,   0],\n",
      "        ...,\n",
      "        [  0,  32,   0],\n",
      "        [  5,  65,   1],\n",
      "        [  8,  73,   4]],\n",
      "\n",
      "       [[ 45,  94,  44],\n",
      "        [ 81, 127,  80],\n",
      "        [  0,  17,   0],\n",
      "        ...,\n",
      "        [  0,  32,   0],\n",
      "        [  9,  65,   6],\n",
      "        [ 29,  90,  26]],\n",
      "\n",
      "       [[ 34,  74,  32],\n",
      "        [ 64, 101,  63],\n",
      "        [  0,  13,   0],\n",
      "        ...,\n",
      "        [  0,  17,   0],\n",
      "        [  0,  20,   0],\n",
      "        [  0,  33,   0]],\n",
      "\n",
      "       ...,\n",
      "\n",
      "       [[ 51,  84,  50],\n",
      "        [ 64,  94,  65],\n",
      "        [  0,   8,   0],\n",
      "        ...,\n",
      "        [  0,   6,  15],\n",
      "        [  0,   7,   0],\n",
      "        [  0,  14,   0]],\n",
      "\n",
      "       [[ 36,  69,  35],\n",
      "        [  8,  38,   9],\n",
      "        [  0,   8,   0],\n",
      "        ...,\n",
      "        [  0,   8,   5],\n",
      "        [  0,  13,   0],\n",
      "        [ 19,  50,   5]],\n",
      "\n",
      "       [[ 51,  84,  50],\n",
      "        [  0,  12,   0],\n",
      "        [  0,   8,   0],\n",
      "        ...,\n",
      "        [  0,   4,   0],\n",
      "        [  0,  24,   0],\n",
      "        [ 90, 121,  70]]], dtype=uint8), {'L_edge_point': (120.0, 188.0), 'R_edge_point': (528.0, 142.0), 'L_highest_point': (152.0, 152.0), 'R_highest_point': (476.0, 104.0), 'L_left_top': (120, 152), 'L_left_bottom': (120, 219), 'L_right_top': (214, 152), 'L_right_bottom': (243, 219), 'R_right_top': (528, 104), 'R_right_bottom': (528, 199), 'R_left_top': (417, 104), 'R_left_bottom': (406, 199), 'cm': 20.0})\n"
     ]
    }
   ],
   "source": [
    "# segm = Segmentator(model_path=\"weights/segmentation.pt\")\n",
    "# det = Detector(model_id=\"hip-joint-detection/2\")\n",
    "# head_segm = HeadSegmentator(model_id=\"femur-head-segmentation/2\")\n",
    "key_points = get_keypoints(image4, \n",
    "                           \"weights/segmentation.pt\", \n",
    "                           \"femur-head-segmentation/2\",\n",
    "                           \"hip-joint-detection/2\")\n",
    "\n",
    "print(key_points)\n",
    "\n"
   ]
  },
  {
   "cell_type": "code",
   "execution_count": 12,
   "metadata": {},
   "outputs": [],
   "source": [
    "L_left_top = (int(L_edge_point[0]), int(L_highest_point[1]))\n",
    "L_left_bottom = (int(L_edge_point[0]), int(L_hole_top_left[1]))\n",
    "\n",
    "x0_left, y0_left = L_right_highest_point[0], L_right_highest_point[1]\n",
    "x1_left, y1_left = L_hole_top_left[0], L_hole_top_left[1]\n",
    "y_left = L_highest_point[1]\n",
    "\n",
    "x_intersection_left = x0_left + ((y_left - y0_left) * (x1_left - x0_left)) / (y1_left - y0_left)\n",
    "L_right_top = (int(x_intersection_left), int(y_left))\n",
    "\n",
    "L_right_bottom = (int(L_hole_top_left[0]), int(L_hole_top_left[1]))\n",
    "\n",
    "R_right_top = (int(R_edge_point[0]), int(R_highest_point[1]))\n",
    "R_right_bottom = (int(R_edge_point[0]), int(R_hole_top_right[1]))\n",
    "\n",
    "x0_right, y0_right = R_left_highest_point[0], R_left_highest_point[1]\n",
    "x1_right, y1_right = R_hole_top_right[0], R_hole_top_right[1]\n",
    "y_right = R_highest_point[1]\n",
    "\n",
    "x_intersection_right = x0_right + ((y_right - y0_right) * (x1_right - x0_right)) / (y1_right - y0_right)\n",
    "R_left_top = (int(x_intersection_right), int(y_right))\n",
    "\n",
    "R_left_bottom = (int(R_hole_top_right[0]), int(R_hole_top_right[1]))\n"
   ]
  },
  {
   "cell_type": "code",
   "execution_count": 13,
   "metadata": {},
   "outputs": [
    {
     "data": {
      "text/plain": [
       "True"
      ]
     },
     "execution_count": 13,
     "metadata": {},
     "output_type": "execute_result"
    }
   ],
   "source": [
    "cv2.circle(image, L_left_top, 5, (0, 0, 255), -1)\n",
    "cv2.circle(image, L_right_top, 5, (0, 255, 0), -1)\n",
    "cv2.circle(image, L_left_bottom, 5, (0, 0, 255), -1)\n",
    "cv2.circle(image, L_right_bottom, 5, (0, 0, 255), -1)\n",
    "cv2.circle(image, R_left_top, 5, (0, 255, 0), -1)\n",
    "cv2.circle(image, R_right_top, 5, (0, 0, 255), -1)\n",
    "cv2.circle(image, R_left_bottom, 5, (0, 0, 255), -1)\n",
    "cv2.circle(image, R_right_bottom, 5, (0, 0, 255), -1)\n",
    "cv2.imwrite(detected, image)"
   ]
  },
  {
   "cell_type": "code",
   "execution_count": 9,
   "metadata": {},
   "outputs": [
    {
     "data": {
      "text/plain": [
       "True"
      ]
     },
     "execution_count": 9,
     "metadata": {},
     "output_type": "execute_result"
    }
   ],
   "source": [
    "cv2.imwrite('test_data/tangent_lines.jpg', image)"
   ]
  },
  {
   "cell_type": "code",
   "execution_count": null,
   "metadata": {},
   "outputs": [],
   "source": []
  }
 ],
 "metadata": {
  "kernelspec": {
   "display_name": "venv",
   "language": "python",
   "name": "python3"
  },
  "language_info": {
   "codemirror_mode": {
    "name": "ipython",
    "version": 3
   },
   "file_extension": ".py",
   "mimetype": "text/x-python",
   "name": "python",
   "nbconvert_exporter": "python",
   "pygments_lexer": "ipython3",
   "version": "3.12.3"
  }
 },
 "nbformat": 4,
 "nbformat_minor": 2
}

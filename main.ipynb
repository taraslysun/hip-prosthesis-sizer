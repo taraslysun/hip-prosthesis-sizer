{
 "cells": [
  {
   "cell_type": "code",
   "execution_count": 28,
   "metadata": {},
   "outputs": [
    {
     "name": "stdout",
     "output_type": "stream",
     "text": [
      "\u001b[31mERROR: Could not open requirements file: [Errno 2] No such file or directory: 'requirements.txt'\u001b[0m\u001b[31m\n",
      "\u001b[0m"
     ]
    }
   ],
   "source": [
    "!pip install -r requirements.txt -q"
   ]
  },
  {
   "cell_type": "code",
   "execution_count": 1,
   "metadata": {},
   "outputs": [],
   "source": [
    "from ultralytics import YOLO\n",
    "import cv2\n",
    "import random\n",
    "import numpy as np\n",
    "import dotenv\n",
    "import os\n",
    "from inference_sdk import InferenceHTTPClient"
   ]
  },
  {
   "cell_type": "code",
   "execution_count": 2,
   "metadata": {},
   "outputs": [],
   "source": [
    "from segmentator import Segmentator\n",
    "from detector import Detector"
   ]
  },
  {
   "cell_type": "code",
   "execution_count": 3,
   "metadata": {},
   "outputs": [],
   "source": [
    "segm = Segmentator(model_path=\"weights/segmentation.pt\")\n",
    "det = Detector(model_id=\"hip-joint-detection/2\")"
   ]
  },
  {
   "cell_type": "code",
   "execution_count": 41,
   "metadata": {},
   "outputs": [],
   "source": [
    "image1 = 'test_data/img1.jpg'\n",
    "image2 = 'test_data/img2.jpg'\n",
    "image3 = 'test_data/img3.jpg'\n",
    "detected = 'test_data/detected.jpg'\n",
    "segmented = 'test_data/segmented.jpg'"
   ]
  },
  {
   "cell_type": "code",
   "execution_count": 42,
   "metadata": {},
   "outputs": [
    {
     "name": "stdout",
     "output_type": "stream",
     "text": [
      "\n",
      "0: 640x640 1 big-hole, 2 bone-hollows, 312.1ms\n",
      "Speed: 2.4ms preprocess, 312.1ms inference, 4.0ms postprocess per image at shape (1, 3, 640, 640)\n"
     ]
    }
   ],
   "source": [
    "det.save_image(det.draw_detection(image3, det.detect(image3)), detected)\n",
    "res_segm = segm.segment(detected)\n",
    "segm.save_image(segm.draw_segmentation(detected,res_segm), \"test_data/segmented.jpg\")\n"
   ]
  },
  {
   "cell_type": "code",
   "execution_count": 68,
   "metadata": {},
   "outputs": [],
   "source": [
    "def find_tangent_lines(image_path, segmentation_results, detection_results):\n",
    "    image = cv2.imread(image_path)\n",
    "    mask = np.zeros(image.shape[:2], dtype=np.uint8)\n",
    "    for result in segmentation_results:\n",
    "        for seg in result.masks.xy:\n",
    "            points = np.int32([seg])\n",
    "            cv2.fillPoly(mask, points, 255)\n",
    "\n",
    "    contours, _ = cv2.findContours(mask, cv2.RETR_EXTERNAL, cv2.CHAIN_APPROX_SIMPLE)\n",
    "\n",
    "    if not contours:\n",
    "        print(\"No contours found in segmentation.\")\n",
    "        return image\n",
    "\n",
    "    green_contour = max(contours, key=cv2.contourArea)\n",
    "\n",
    "    small_holes = []\n",
    "    for result in detection_results:\n",
    "        if result['class'] == 'small-hole':\n",
    "            x, y, w, h = result['x'], result['y'], result['width'], result['height']\n",
    "            top_right = (int(x + w / 2), int(y - h / 2))\n",
    "            top_left = (int(x - w / 2), int(y - h / 2))\n",
    "            small_holes.append((top_left, top_right))\n",
    "\n",
    "    if len(small_holes) < 2:\n",
    "        print(\"Not enough 'small-hole' detections to draw tangent lines.\")\n",
    "        return image\n",
    "\n",
    "    left_hole = min(small_holes, key=lambda x: x[0][0])\n",
    "    right_hole = max(small_holes, key=lambda x: x[0][0])\n",
    "    left_hole_top_left, left_hole_top_right = left_hole\n",
    "    right_hole_top_left, right_hole_top_right = right_hole\n",
    "\n",
    "\n",
    "    def line_intersects_contour(point1, point2, contour):\n",
    "        mask_line = np.zeros(image.shape[:2], dtype=np.uint8)\n",
    "        cv2.line(mask_line, point1, point2, 255, 1)\n",
    "        mask_contour = np.zeros(image.shape[:2], dtype=np.uint8)\n",
    "        cv2.drawContours(mask_contour, [contour], -1, 255, 1)\n",
    "        intersection = cv2.bitwise_and(mask_line, mask_contour)\n",
    "        return np.any(intersection)\n",
    "    \n",
    "\n",
    "    left_line_points = None\n",
    "    for angle in range(0, 90):\n",
    "        length = 1000\n",
    "        theta = np.radians(180 - angle)\n",
    "        x_offset = int(length * np.cos(theta))\n",
    "        y_offset = int(length * np.sin(theta))\n",
    "        new_point = (left_hole_top_left[0] + x_offset, left_hole_top_left[1] - y_offset)\n",
    "        if line_intersects_contour(left_hole_top_left, new_point, green_contour):\n",
    "            left_line_points = (left_hole_top_left, new_point)\n",
    "            cv2.line(image, left_hole_top_left, new_point, (255, 0, 0), 2)\n",
    "            break\n",
    "\n",
    "    right_line_points = None\n",
    "    for angle in range(0, 90):\n",
    "        length = 1000\n",
    "        theta = np.radians(angle)\n",
    "        x_offset = int(length * np.cos(theta))\n",
    "        y_offset = int(length * np.sin(theta))\n",
    "        new_point = (right_hole_top_right[0] + x_offset, right_hole_top_right[1] - y_offset)\n",
    "        if line_intersects_contour(right_hole_top_right, new_point, green_contour):\n",
    "            right_line_points = (right_hole_top_right, new_point)\n",
    "            cv2.line(image, right_hole_top_right, new_point, (0, 255, 0), 2)\n",
    "            break\n",
    "\n",
    "    return image, left_line_points, right_line_points"
   ]
  },
  {
   "cell_type": "code",
   "execution_count": 70,
   "metadata": {},
   "outputs": [
    {
     "name": "stdout",
     "output_type": "stream",
     "text": [
      "\n",
      "0: 640x640 1 big-hole, 2 bone-hollows, 628.9ms\n",
      "Speed: 21.3ms preprocess, 628.9ms inference, 3.6ms postprocess per image at shape (1, 3, 640, 640)\n"
     ]
    },
    {
     "data": {
      "text/plain": [
       "True"
      ]
     },
     "execution_count": 70,
     "metadata": {},
     "output_type": "execute_result"
    }
   ],
   "source": [
    "res_segm = segm.segment(image1)\n",
    "res_det = det.detect(image1)\n",
    "# image = draw_tangent_lines(image1, res_segm, res_det)\n",
    "_, left_line, right_line = find_tangent_lines(image1, res_segm, res_det)\n",
    "\n",
    "image = cv2.imread(image1)\n",
    "cv2.line(image, left_line[0], left_line[1], (255, 0, 0), 2)\n",
    "cv2.line(image, right_line[0], right_line[1], (0, 255, 0), 2)\n",
    "cv2.imwrite(\"test_data/tangent_lines.jpg\", image)"
   ]
  },
  {
   "cell_type": "code",
   "execution_count": 15,
   "metadata": {},
   "outputs": [],
   "source": [
    "res_detect2 = det.detect(\"test_data/img2.jpg\")\n",
    "res_detect3 = det.detect(\"test_data/img3.jpg\")"
   ]
  },
  {
   "cell_type": "code",
   "execution_count": 28,
   "metadata": {},
   "outputs": [],
   "source": [
    "def px_in_cm(results):\n",
    "    pixels = None\n",
    "    for res in results:\n",
    "        if res['class'] == 'scale-mark':\n",
    "            pixels = res['width']\n",
    "            break\n",
    "    return pixels * 0.8\n"
   ]
  },
  {
   "cell_type": "code",
   "execution_count": 30,
   "metadata": {},
   "outputs": [
    {
     "name": "stdout",
     "output_type": "stream",
     "text": [
      "Pixels in cm: 21.6\n",
      "Pixels in cm: 20.0\n",
      "Pixels in cm: 20.8\n"
     ]
    }
   ],
   "source": [
    "for res in [res_detect, res_detect2, res_detect3]:\n",
    "    pixels = px_in_cm(res)\n",
    "    print(f\"Pixels in cm: {pixels}\")\n",
    "    \n"
   ]
  },
  {
   "cell_type": "code",
   "execution_count": null,
   "metadata": {},
   "outputs": [],
   "source": []
  }
 ],
 "metadata": {
  "kernelspec": {
   "display_name": "venv",
   "language": "python",
   "name": "python3"
  },
  "language_info": {
   "codemirror_mode": {
    "name": "ipython",
    "version": 3
   },
   "file_extension": ".py",
   "mimetype": "text/x-python",
   "name": "python",
   "nbconvert_exporter": "python",
   "pygments_lexer": "ipython3",
   "version": "3.12.3"
  }
 },
 "nbformat": 4,
 "nbformat_minor": 2
}
